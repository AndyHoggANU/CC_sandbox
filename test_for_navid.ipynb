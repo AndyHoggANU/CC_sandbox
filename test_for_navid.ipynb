{
 "cells": [
  {
   "cell_type": "code",
   "execution_count": 1,
   "metadata": {},
   "outputs": [],
   "source": [
    "%matplotlib inline\n",
    "import cosima_cookbook as cc\n",
    "import xarray as xr\n",
    "import cartopy.crs as ccrs\n",
    "import matplotlib.pyplot as plt"
   ]
  },
  {
   "cell_type": "code",
   "execution_count": 2,
   "metadata": {},
   "outputs": [],
   "source": [
    "session = cc.database.create_session()"
   ]
  },
  {
   "cell_type": "code",
   "execution_count": 8,
   "metadata": {},
   "outputs": [
    {
     "name": "stderr",
     "output_type": "stream",
     "text": [
      "/g/data3/hh5/public/apps/miniconda3/envs/analysis3-19.07/lib/python3.6/site-packages/cosima_cookbook/querying.py:96: FutureWarning: In xarray version 0.14 the default behaviour of `open_mfdataset`\n",
      "will change. To retain the existing behavior, pass\n",
      "combine='nested'. To use future default behavior, pass\n",
      "combine='by_coords'. See\n",
      "http://xarray.pydata.org/en/stable/combining.html#combining-multi\n",
      "\n",
      "  preprocess=lambda d: d[variable].to_dataset() if variable not in d.coords else d)\n",
      "/g/data3/hh5/public/apps/miniconda3/envs/analysis3-19.07/lib/python3.6/site-packages/xarray/backends/api.py:934: FutureWarning: The datasets supplied have global dimension coordinates. You may want\n",
      "to use the new `combine_by_coords` function (or the\n",
      "`combine='by_coords'` option to `open_mfdataset`) to order the datasets\n",
      "before concatenation. Alternatively, to continue concatenating based\n",
      "on the order the datasets are supplied in future, please use the new\n",
      "`combine_nested` function (or the `combine='nested'` option to\n",
      "open_mfdataset).\n",
      "  from_openmfds=True,\n"
     ]
    },
    {
     "data": {
      "text/plain": [
       "<xarray.DataArray 'temp_global_ave' (time: 8580, scalar_axis: 1)>\n",
       "dask.array<concatenate, shape=(8580, 1), dtype=float32, chunksize=(1, 1), chunktype=numpy.ndarray>\n",
       "Coordinates:\n",
       "  * scalar_axis  (scalar_axis) float64 0.0\n",
       "  * time         (time) object 1900-01-16 12:00:00 ... 2609-12-16 12:00:00\n",
       "Attributes:\n",
       "    long_name:      Global mean temp in liquid seawater\n",
       "    units:          deg_C\n",
       "    valid_range:    [ -10. 1000.]\n",
       "    cell_methods:   time: mean\n",
       "    time_avg_info:  average_T1,average_T2,average_DT\n",
       "    standard_name:  sea_water_potential_temperature"
      ]
     },
     "execution_count": 8,
     "metadata": {},
     "output_type": "execute_result"
    }
   ],
   "source": [
    "expt = '1deg_jra55_ryf9091_spinup1_B1'\n",
    "variable = 'temp_global_ave'\n",
    "darray = cc.querying.getvar(expt,variable,session)\n",
    "darray"
   ]
  },
  {
   "cell_type": "code",
   "execution_count": 9,
   "metadata": {},
   "outputs": [
    {
     "name": "stderr",
     "output_type": "stream",
     "text": [
      "/g/data3/hh5/public/apps/miniconda3/envs/analysis3-19.07/lib/python3.6/site-packages/cosima_cookbook/querying.py:96: FutureWarning: In xarray version 0.14 the default behaviour of `open_mfdataset`\n",
      "will change. To retain the existing behavior, pass\n",
      "combine='nested'. To use future default behavior, pass\n",
      "combine='by_coords'. See\n",
      "http://xarray.pydata.org/en/stable/combining.html#combining-multi\n",
      "\n",
      "  preprocess=lambda d: d[variable].to_dataset() if variable not in d.coords else d)\n",
      "/g/data3/hh5/public/apps/miniconda3/envs/analysis3-19.07/lib/python3.6/site-packages/xarray/backends/api.py:934: FutureWarning: The datasets supplied have global dimension coordinates. You may want\n",
      "to use the new `combine_by_coords` function (or the\n",
      "`combine='by_coords'` option to `open_mfdataset`) to order the datasets\n",
      "before concatenation. Alternatively, to continue concatenating based\n",
      "on the order the datasets are supplied in future, please use the new\n",
      "`combine_nested` function (or the `combine='nested'` option to\n",
      "open_mfdataset).\n",
      "  from_openmfds=True,\n"
     ]
    },
    {
     "data": {
      "text/plain": [
       "<xarray.DataArray 'temp_global_ave' (time: 2448, scalar_axis: 1)>\n",
       "dask.array<concatenate, shape=(2448, 1), dtype=float32, chunksize=(1, 1), chunktype=numpy.ndarray>\n",
       "Coordinates:\n",
       "  * scalar_axis  (scalar_axis) float64 0.0\n",
       "  * time         (time) object 1900-01-16 12:00:00 ... 2103-12-16 12:00:00\n",
       "Attributes:\n",
       "    long_name:      Global mean temp in liquid seawater\n",
       "    units:          deg_C\n",
       "    valid_range:    [ -10. 1000.]\n",
       "    cell_methods:   time: mean\n",
       "    time_avg_info:  average_T1,average_T2,average_DT\n",
       "    standard_name:  sea_water_potential_temperature"
      ]
     },
     "execution_count": 9,
     "metadata": {},
     "output_type": "execute_result"
    }
   ],
   "source": [
    "expt = '025deg_jra55v13_ryf9091_gmredi6'\n",
    "variable = 'temp_global_ave'\n",
    "darray1 = cc.querying.getvar(expt,variable,session)\n",
    "darray1"
   ]
  },
  {
   "cell_type": "code",
   "execution_count": 10,
   "metadata": {},
   "outputs": [
    {
     "data": {
      "text/plain": [
       "[<matplotlib.lines.Line2D at 0x7f3b351697f0>]"
      ]
     },
     "execution_count": 10,
     "metadata": {},
     "output_type": "execute_result"
    },
    {
     "data": {
      "image/png": "[encoded data removed]",
      "text/plain": [
       "<Figure size 432x288 with 1 Axes>"
      ]
     },
     "metadata": {
      "needs_background": "light"
     },
     "output_type": "display_data"
    }
   ],
   "source": [
    "darray.plot(label='1deg')\n",
    "darray1.plot(label='025deg')"
   ]
  },
  {
   "cell_type": "code",
   "execution_count": 11,
   "metadata": {},
   "outputs": [
    {
     "name": "stderr",
     "output_type": "stream",
     "text": [
      "/g/data3/hh5/public/apps/miniconda3/envs/analysis3-19.07/lib/python3.6/site-packages/cosima_cookbook/querying.py:96: FutureWarning: In xarray version 0.14 the default behaviour of `open_mfdataset`\n",
      "will change. To retain the existing behavior, pass\n",
      "combine='nested'. To use future default behavior, pass\n",
      "combine='by_coords'. See\n",
      "http://xarray.pydata.org/en/stable/combining.html#combining-multi\n",
      "\n",
      "  preprocess=lambda d: d[variable].to_dataset() if variable not in d.coords else d)\n",
      "/g/data3/hh5/public/apps/miniconda3/envs/analysis3-19.07/lib/python3.6/site-packages/xarray/backends/api.py:934: FutureWarning: The datasets supplied have global dimension coordinates. You may want\n",
      "to use the new `combine_by_coords` function (or the\n",
      "`combine='by_coords'` option to `open_mfdataset`) to order the datasets\n",
      "before concatenation. Alternatively, to continue concatenating based\n",
      "on the order the datasets are supplied in future, please use the new\n",
      "`combine_nested` function (or the `combine='nested'` option to\n",
      "open_mfdataset).\n",
      "  from_openmfds=True,\n"
     ]
    },
    {
     "data": {
      "text/plain": [
       "<xarray.DataArray 'surface_temp' (time: 2448, yt_ocean: 1080, xt_ocean: 1440)>\n",
       "dask.array<concatenate, shape=(2448, 1080, 1440), dtype=float32, chunksize=(1, 540, 720), chunktype=numpy.ndarray>\n",
       "Coordinates:\n",
       "  * yt_ocean  (yt_ocean) float64 -81.08 -80.97 -80.87 ... 89.74 89.84 89.95\n",
       "  * xt_ocean  (xt_ocean) float64 -279.9 -279.6 -279.4 ... 79.38 79.62 79.88\n",
       "  * time      (time) object 1900-01-16 12:00:00 ... 2103-12-16 12:00:00\n",
       "Attributes:\n",
       "    long_name:      Conservative temperature\n",
       "    units:          deg_C\n",
       "    valid_range:    [-10. 500.]\n",
       "    cell_methods:   time: mean\n",
       "    time_avg_info:  average_T1,average_T2,average_DT\n",
       "    coordinates:    geolon_t geolat_t"
      ]
     },
     "execution_count": 11,
     "metadata": {},
     "output_type": "execute_result"
    }
   ],
   "source": [
    "expt = '025deg_jra55v13_ryf9091_gmredi6'\n",
    "variable = 'surface_temp'\n",
    "darray1 = cc.querying.getvar(expt,variable,session)\n",
    "darray1"
   ]
  },
  {
   "cell_type": "code",
   "execution_count": null,
   "metadata": {},
   "outputs": [],
   "source": [
    "darray1.sel(xt_ocean=-140,method='nearest').sel(yt_ocean=-30,method='nearest').plot()"
   ]
  },
  {
   "cell_type": "code",
   "execution_count": null,
   "metadata": {},
   "outputs": [],
   "source": []
  }
 ],
 "metadata": {
  "kernelspec": {
   "display_name": "Python [conda env:analysis3-19.07] *",
   "language": "python",
   "name": "conda-env-analysis3-19.07-py"
  },
  "language_info": {
   "codemirror_mode": {
    "name": "ipython",
    "version": 3
   },
   "file_extension": ".py",
   "mimetype": "text/x-python",
   "name": "python",
   "nbconvert_exporter": "python",
   "pygments_lexer": "ipython3",
   "version": "3.6.7"
  }
 },
 "nbformat": 4,
 "nbformat_minor": 2
}
