{
 "cells": [
  {
   "cell_type": "markdown",
   "metadata": {},
   "source": [
    "# How to build a database\n",
    "An important element of the COSIMA cookbook is that model output metadata is held in a database. This database allows for easy querying of the data so that we so that variables can be loaded with a single command.\n",
    "\n",
    "The current version of the cookbook (as of May 2019) has been upgraded to allow for multiple databases. We will continue to maintain databases of available experiments; but users can also create their own (smaller) databases covering just the simulations that they are interested in. This example shows how to build your database.\n"
   ]
  },
  {
   "cell_type": "code",
   "execution_count": 26,
   "metadata": {},
   "outputs": [],
   "source": [
    "%matplotlib inline\n",
    "import cosima_cookbook as cc\n",
    "from dask.distributed import Client"
   ]
  },
  {
   "cell_type": "markdown",
   "metadata": {},
   "source": [
    "**First, create a database using this function:**"
   ]
  },
  {
   "cell_type": "code",
   "execution_count": 8,
   "metadata": {},
   "outputs": [
    {
     "name": "stdout",
     "output_type": "stream",
     "text": [
      "Help on function create_database in module cosima_cookbook.database:\n",
      "\n",
      "create_database(db, debug=False)\n",
      "    Create new database file with the target schema.\n",
      "    \n",
      "    We create a foreign key constraint on the ncfile column in\n",
      "    the ncvars table, but it won't be enforced without `PRAGMA\n",
      "    foreign_keys = 1' in sqlite.\n",
      "\n"
     ]
    }
   ],
   "source": [
    "help(cc.database.create_database)"
   ]
  },
  {
   "cell_type": "markdown",
   "metadata": {},
   "source": [
    "We will use our default ACCESS-OM2-01 database by way of example:"
   ]
  },
  {
   "cell_type": "code",
   "execution_count": 28,
   "metadata": {},
   "outputs": [
    {
     "data": {
      "text/plain": [
       "(<sqlalchemy.engine.base.Connection at 0x7efca9f02588>,\n",
       " {'ncfiles': Table('ncfiles', MetaData(bind=None), Column('id', Integer(), table=<ncfiles>, primary_key=True, nullable=False), Column('index_time', DateTime(), table=<ncfiles>), Column('ncfile', Text(), table=<ncfiles>), Column('present', Boolean(), table=<ncfiles>), Column('experiment', Text(), table=<ncfiles>), Column('run', Integer(), table=<ncfiles>), Column('timeunits', Text(), table=<ncfiles>), Column('calendar', Text(), table=<ncfiles>), Column('time_start', Text(), table=<ncfiles>), Column('time_end', Text(), table=<ncfiles>), Column('frequency', Text(), table=<ncfiles>), schema=None),\n",
       "  'ncvars': Table('ncvars', MetaData(bind=None), Column('id', Integer(), table=<ncvars>, primary_key=True, nullable=False), Column('ncfile', Integer(), ForeignKey('ncfiles.id'), table=<ncvars>, nullable=False), Column('variable', Text(), table=<ncvars>), Column('dimensions', Text(), table=<ncvars>), Column('chunking', Text(), table=<ncvars>), schema=None)})"
      ]
     },
     "execution_count": 28,
     "metadata": {},
     "output_type": "execute_result"
    }
   ],
   "source": [
    "db = '/g/data3/hh5/tmp/cosima/database/access-om2-01.db'\n",
    "cc.database.create_database(db)"
   ]
  },
  {
   "cell_type": "markdown",
   "metadata": {},
   "source": [
    "**Second, start up a client** (required to build the index):"
   ]
  },
  {
   "cell_type": "code",
   "execution_count": 16,
   "metadata": {},
   "outputs": [
    {
     "data": {
      "text/html": [
       "<table style=\"border: 2px solid white;\">\n",
       "<tr>\n",
       "<td style=\"vertical-align: top; border: 0px solid white\">\n",
       "<h3>Client</h3>\n",
       "<ul>\n",
       "  <li><b>Scheduler: </b>tcp://127.0.0.1:39367\n",
       "  <li><b>Dashboard: </b><a href='http://127.0.0.1:8787/status' target='_blank'>http://127.0.0.1:8787/status</a>\n",
       "</ul>\n",
       "</td>\n",
       "<td style=\"vertical-align: top; border: 0px solid white\">\n",
       "<h3>Cluster</h3>\n",
       "<ul>\n",
       "  <li><b>Workers: </b>4</li>\n",
       "  <li><b>Cores: </b>8</li>\n",
       "  <li><b>Memory: </b>33.67 GB</li>\n",
       "</ul>\n",
       "</td>\n",
       "</tr>\n",
       "</table>"
      ],
      "text/plain": [
       "<Client: scheduler='tcp://127.0.0.1:39367' processes=4 cores=8>"
      ]
     },
     "execution_count": 16,
     "metadata": {},
     "output_type": "execute_result"
    }
   ],
   "source": [
    "client = Client(n_workers=4)\n",
    "client"
   ]
  },
  {
   "cell_type": "markdown",
   "metadata": {},
   "source": [
    "**Now, you're ready to build the database** using the following function:"
   ]
  },
  {
   "cell_type": "code",
   "execution_count": 7,
   "metadata": {},
   "outputs": [
    {
     "name": "stdout",
     "output_type": "stream",
     "text": [
      "Help on function build_index in module cosima_cookbook.database:\n",
      "\n",
      "build_index(directories, client, db, update=False, debug=False)\n",
      "    Index all runs contained within a directory. Requires a distributed client for processing,\n",
      "    and the filename of a database that's been created with the create_database() function.\n",
      "    \n",
      "    May scan for only new entries to add to database with the update flag.\n",
      "\n"
     ]
    }
   ],
   "source": [
    "help(cc.database.build_index)"
   ]
  },
  {
   "cell_type": "code",
   "execution_count": 32,
   "metadata": {},
   "outputs": [
    {
     "name": "stdout",
     "output_type": "stream",
     "text": [
      "2/2"
     ]
    }
   ],
   "source": [
    "directory='/g/data3/hh5/tmp/cosima/access-om2-01/'\n",
    "cc.database.build_index(directory,client,db,update=True)"
   ]
  },
  {
   "cell_type": "markdown",
   "metadata": {},
   "source": [
    "You can choose to supply a list of directories, or a single directory, to be included in your database. Note that this operation will take 10 minutes or so for the first build of the database, or if `update=False`. "
   ]
  },
  {
   "cell_type": "code",
   "execution_count": null,
   "metadata": {},
   "outputs": [],
   "source": []
  }
 ],
 "metadata": {
  "kernelspec": {
   "display_name": "Python [conda env:analysis3-19.04]",
   "language": "python",
   "name": "conda-env-analysis3-19.04-py"
  },
  "language_info": {
   "codemirror_mode": {
    "name": "ipython",
    "version": 3
   },
   "file_extension": ".py",
   "mimetype": "text/x-python",
   "name": "python",
   "nbconvert_exporter": "python",
   "pygments_lexer": "ipython3",
   "version": "3.6.7"
  }
 },
 "nbformat": 4,
 "nbformat_minor": 2
}
