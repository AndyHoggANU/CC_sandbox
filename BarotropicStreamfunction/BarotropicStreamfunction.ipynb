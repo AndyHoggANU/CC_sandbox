{
 "cells": [
  {
   "cell_type": "code",
   "execution_count": 8,
   "metadata": {},
   "outputs": [],
   "source": [
    "%matplotlib inline\n",
    "\n",
    "import cosima_cookbook as cc\n",
    "import matplotlib.pyplot as plt\n",
    "import xarray as xr\n",
    "import numpy as np\n",
    "import pandas as pd\n",
    "import cmocean as cm\n",
    "import cartopy.crs as ccrs\n",
    "import cartopy.feature as cft\n",
    "\n",
    "import logging\n",
    "logging.captureWarnings(True)\n",
    "logging.getLogger('py.warnings').setLevel(logging.ERROR)\n",
    "\n",
    "from dask.distributed import Client"
   ]
  },
  {
   "cell_type": "code",
   "execution_count": 9,
   "metadata": {},
   "outputs": [
    {
     "name": "stdout",
     "output_type": "stream",
     "text": [
      "Using database sqlite:////g/data3/hh5/tmp/cosima/cosima-cookbook/cosima-cookbook.db\n",
      " ------ Here is what the initial dataset looks like ------ \n",
      "<xarray.DataArray 'tx_trans_int_z' (time: 720, yt_ocean: 300, xu_ocean: 360)>\n",
      "dask.array<shape=(720, 300, 360), dtype=float32, chunksize=(1, 300, 360)>\n",
      "Coordinates:\n",
      "  * xu_ocean  (xu_ocean) float64 -279.0 -278.0 -277.0 -276.0 ... 78.0 79.0 80.0\n",
      "  * yt_ocean  (yt_ocean) float64 -77.88 -77.63 -77.38 ... 88.87 89.32 89.77\n",
      "  * time      (time) datetime64[ns] 1958-01-17T12:00:00 ... 2017-12-16T12:00:00\n",
      "Attributes:\n",
      "    long_name:      T-cell i-mass transport vertically summed\n",
      "    units:          kg/s\n",
      "    valid_range:    [-1.e+20  1.e+20]\n",
      "    cell_methods:   time: mean\n",
      "    time_avg_info:  average_T1,average_T2,average_DT\n",
      "    coordinates:    geolon_c geolat_t\n",
      " --------------------------------------------------------- \n",
      " \n",
      " ------ Here is what the resampled dataset looks like ------ \n",
      "<xarray.DataArray 'tx_trans_int_z' (time: 60, yt_ocean: 300, xu_ocean: 360)>\n",
      "dask.array<shape=(60, 300, 360), dtype=float32, chunksize=(1, 300, 360)>\n",
      "Coordinates:\n",
      "  * time      (time) datetime64[ns] 1958-12-31 1959-12-31 ... 2017-12-31\n",
      "  * xu_ocean  (xu_ocean) float64 -279.0 -278.0 -277.0 -276.0 ... 78.0 79.0 80.0\n",
      "  * yt_ocean  (yt_ocean) float64 -77.88 -77.63 -77.38 ... 88.87 89.32 89.77\n",
      " --------------------------------------------------------- \n",
      " \n",
      " ------ Here is what the North Atl dataset looks like ------ \n",
      "<xarray.DataArray 'tx_trans_int_z' (time: 60, yt_ocean: 184, xu_ocean: 121)>\n",
      "dask.array<shape=(60, 184, 121), dtype=float32, chunksize=(1, 184, 121)>\n",
      "Coordinates:\n",
      "  * time      (time) datetime64[ns] 1958-12-31 1959-12-31 ... 2017-12-31\n",
      "  * xu_ocean  (xu_ocean) float64 -100.0 -99.0 -98.0 -97.0 ... 18.0 19.0 20.0\n",
      "  * yt_ocean  (yt_ocean) float64 -34.49 -33.5 -32.5 -31.5 ... 68.89 69.35 69.81\n",
      " --------------------------------------------------------- \n",
      " \n"
     ]
    },
    {
     "data": {
      "image/png": "[encoded data removed]",
      "text/plain": [
       "<Figure size 432x288 with 2 Axes>"
      ]
     },
     "metadata": {
      "needs_background": "light"
     },
     "output_type": "display_data"
    }
   ],
   "source": [
    "expt = '1deg_jra55v13_iaf_spinup1_B1'  ## choosing our 1 degree experiment\n",
    "n_files = -12                          ## Last 12 files is last 60 years\n",
    "time_units = 'days since 1718-01-01'   ## These are to give correct dates\n",
    "offset = -87658\n",
    "\n",
    "## Load monthly zonal barotropic transport\n",
    "tx_trans_int_z = cc.get_nc_variable(expt,'ocean_month.nc','tx_trans_int_z',\n",
    "                                        n=n_files,time_units=time_units, offset=offset)\n",
    "\n",
    "print(' ------ Here is what the initial dataset looks like ------ ')\n",
    "print(tx_trans_int_z)\n",
    "print(' --------------------------------------------------------- ')\n",
    "print(' ')\n",
    "\n",
    "tx_trans_annual = tx_trans_int_z.resample(time='A').mean('time')\n",
    "\n",
    "print(' ------ Here is what the resampled dataset looks like ------ ')\n",
    "print(tx_trans_annual)\n",
    "print(' --------------------------------------------------------- ')\n",
    "print(' ')\n",
    "\n",
    "BSF = tx_trans_annual.cumsum('yt_ocean')/1e6/1036\n",
    "BSF = BSF - BSF.sel(xu_ocean=0,method='nearest').sel(yt_ocean=20,method='nearest')\n",
    "\n",
    "## Chop out the area I'm interested in\n",
    "BSF_NAtl = BSF.sel(xu_ocean = slice(-100,20)).sel(yt_ocean = slice(-35,70))\n",
    "print(' ------ Here is what the North Atl dataset looks like ------ ')\n",
    "print(BSF_NAtl)\n",
    "print(' --------------------------------------------------------- ')\n",
    "print(' ')\n",
    "\n",
    "## Plot the mean for the North Atlantic region\n",
    "BSF_NAtl.mean('time').plot.contourf(levels=np.arange(-29,30,2))\n",
    "\n",
    "## Save the whole dataset\n",
    "BSF.to_netcdf('BSF_1deg.nc')"
   ]
  },
  {
   "cell_type": "code",
   "execution_count": null,
   "metadata": {},
   "outputs": [],
   "source": [
    "expt = '025deg_jra55v13_iaf_gmredi6'\n"
   ]
  }
 ],
 "metadata": {
  "kernelspec": {
   "display_name": "Python [conda env:analysis3-18.10]",
   "language": "python",
   "name": "conda-env-analysis3-18.10-py"
  },
  "language_info": {
   "codemirror_mode": {
    "name": "ipython",
    "version": 3
   },
   "file_extension": ".py",
   "mimetype": "text/x-python",
   "name": "python",
   "nbconvert_exporter": "python",
   "pygments_lexer": "ipython3",
   "version": "3.6.7"
  }
 },
 "nbformat": 4,
 "nbformat_minor": 2
}
